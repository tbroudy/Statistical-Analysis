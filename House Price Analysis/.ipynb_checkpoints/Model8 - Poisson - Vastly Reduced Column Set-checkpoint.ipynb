{
 "cells": [
  {
   "cell_type": "code",
   "execution_count": 90,
   "metadata": {},
   "outputs": [],
   "source": [
    "import statsmodels.api as sm\n",
    "import statsmodels.formula.api as smf\n",
    "from sklearn import preprocessing\n",
    "import sklearn.model_selection as ms\n",
    "import sklearn.metrics as sklm\n",
    "import matplotlib.pyplot as plt\n",
    "import pandas as pd\n",
    "import numpy as np\n",
    "import numpy.random as nr\n",
    "import seaborn as sns\n",
    "from datetime import date\n",
    "from sklearn import linear_model\n",
    "from sklearn.linear_model import Lasso, LassoCV\n",
    "from sklearn.preprocessing import StandardScaler, RobustScaler\n",
    "from scipy.special import boxcox1p\n",
    "import scipy.stats as ss\n",
    "from scipy.stats import skew\n",
    "import math\n",
    "from scipy.stats import norm\n",
    "import warnings\n",
    "warnings.filterwarnings('ignore')"
   ]
  },
  {
   "cell_type": "code",
   "execution_count": 91,
   "metadata": {},
   "outputs": [],
   "source": [
    "TrainData = pd.read_csv('train.csv')\n",
    "TestData=pd.read_csv('test.csv')"
   ]
  },
  {
   "cell_type": "code",
   "execution_count": 92,
   "metadata": {},
   "outputs": [],
   "source": [
    "for col in ('ExterQual','HeatingQC','FireplaceQu','GarageQual','KitchenQual','BsmtQual','BsmtCond','GarageCond','PoolQC'):\n",
    "    TrainData[col]=TrainData[col].fillna(0)\n",
    "    TestData[col]=TestData[col].fillna(0)\n",
    "    TrainData[col][TrainData[col] == 'Ex'] = 9\n",
    "    TrainData[col][TrainData[col] == 'Gd'] = 7\n",
    "    TrainData[col][TrainData[col] == 'TA'] = 5\n",
    "    TrainData[col][TrainData[col] == 'Fa'] = 3\n",
    "    TrainData[col][TrainData[col] == 'Po'] = 1\n",
    "    TrainData[col][TrainData[col] == 'NA'] = 0\n",
    "    TestData[col][TestData[col] == 'Ex'] = 9\n",
    "    TestData[col][TestData[col] == 'Gd'] = 7\n",
    "    TestData[col][TestData[col] == 'TA'] = 5\n",
    "    TestData[col][TestData[col] == 'Fa'] = 3\n",
    "    TestData[col][TestData[col] == 'Po'] = 1\n",
    "    TestData[col][TestData[col] == 'NA'] = 0\n",
    "    TestData[col].astype('int64')\n",
    "    TrainData[col].astype('int64')"
   ]
  },
  {
   "cell_type": "code",
   "execution_count": 93,
   "metadata": {},
   "outputs": [
    {
     "data": {
      "text/html": [
       "<div>\n",
       "<style scoped>\n",
       "    .dataframe tbody tr th:only-of-type {\n",
       "        vertical-align: middle;\n",
       "    }\n",
       "\n",
       "    .dataframe tbody tr th {\n",
       "        vertical-align: top;\n",
       "    }\n",
       "\n",
       "    .dataframe thead th {\n",
       "        text-align: right;\n",
       "    }\n",
       "</style>\n",
       "<table border=\"1\" class=\"dataframe\">\n",
       "  <thead>\n",
       "    <tr style=\"text-align: right;\">\n",
       "      <th></th>\n",
       "      <th>Id</th>\n",
       "      <th>MSSubClass</th>\n",
       "      <th>MSZoning</th>\n",
       "      <th>LotFrontage</th>\n",
       "      <th>LotArea</th>\n",
       "      <th>Street</th>\n",
       "      <th>Alley</th>\n",
       "      <th>LotShape</th>\n",
       "      <th>LandContour</th>\n",
       "      <th>Utilities</th>\n",
       "      <th>...</th>\n",
       "      <th>PoolArea</th>\n",
       "      <th>PoolQC</th>\n",
       "      <th>Fence</th>\n",
       "      <th>MiscFeature</th>\n",
       "      <th>MiscVal</th>\n",
       "      <th>MoSold</th>\n",
       "      <th>YrSold</th>\n",
       "      <th>SaleType</th>\n",
       "      <th>SaleCondition</th>\n",
       "      <th>SalePrice</th>\n",
       "    </tr>\n",
       "  </thead>\n",
       "  <tbody>\n",
       "    <tr>\n",
       "      <th>0</th>\n",
       "      <td>1</td>\n",
       "      <td>60</td>\n",
       "      <td>RL</td>\n",
       "      <td>65.0</td>\n",
       "      <td>8450</td>\n",
       "      <td>Pave</td>\n",
       "      <td>NaN</td>\n",
       "      <td>Reg</td>\n",
       "      <td>Lvl</td>\n",
       "      <td>AllPub</td>\n",
       "      <td>...</td>\n",
       "      <td>0</td>\n",
       "      <td>0</td>\n",
       "      <td>NaN</td>\n",
       "      <td>NaN</td>\n",
       "      <td>0</td>\n",
       "      <td>2</td>\n",
       "      <td>2008</td>\n",
       "      <td>WD</td>\n",
       "      <td>Normal</td>\n",
       "      <td>208500</td>\n",
       "    </tr>\n",
       "    <tr>\n",
       "      <th>1</th>\n",
       "      <td>2</td>\n",
       "      <td>20</td>\n",
       "      <td>RL</td>\n",
       "      <td>80.0</td>\n",
       "      <td>9600</td>\n",
       "      <td>Pave</td>\n",
       "      <td>NaN</td>\n",
       "      <td>Reg</td>\n",
       "      <td>Lvl</td>\n",
       "      <td>AllPub</td>\n",
       "      <td>...</td>\n",
       "      <td>0</td>\n",
       "      <td>0</td>\n",
       "      <td>NaN</td>\n",
       "      <td>NaN</td>\n",
       "      <td>0</td>\n",
       "      <td>5</td>\n",
       "      <td>2007</td>\n",
       "      <td>WD</td>\n",
       "      <td>Normal</td>\n",
       "      <td>181500</td>\n",
       "    </tr>\n",
       "    <tr>\n",
       "      <th>2</th>\n",
       "      <td>3</td>\n",
       "      <td>60</td>\n",
       "      <td>RL</td>\n",
       "      <td>68.0</td>\n",
       "      <td>11250</td>\n",
       "      <td>Pave</td>\n",
       "      <td>NaN</td>\n",
       "      <td>IR1</td>\n",
       "      <td>Lvl</td>\n",
       "      <td>AllPub</td>\n",
       "      <td>...</td>\n",
       "      <td>0</td>\n",
       "      <td>0</td>\n",
       "      <td>NaN</td>\n",
       "      <td>NaN</td>\n",
       "      <td>0</td>\n",
       "      <td>9</td>\n",
       "      <td>2008</td>\n",
       "      <td>WD</td>\n",
       "      <td>Normal</td>\n",
       "      <td>223500</td>\n",
       "    </tr>\n",
       "    <tr>\n",
       "      <th>3</th>\n",
       "      <td>4</td>\n",
       "      <td>70</td>\n",
       "      <td>RL</td>\n",
       "      <td>60.0</td>\n",
       "      <td>9550</td>\n",
       "      <td>Pave</td>\n",
       "      <td>NaN</td>\n",
       "      <td>IR1</td>\n",
       "      <td>Lvl</td>\n",
       "      <td>AllPub</td>\n",
       "      <td>...</td>\n",
       "      <td>0</td>\n",
       "      <td>0</td>\n",
       "      <td>NaN</td>\n",
       "      <td>NaN</td>\n",
       "      <td>0</td>\n",
       "      <td>2</td>\n",
       "      <td>2006</td>\n",
       "      <td>WD</td>\n",
       "      <td>Abnorml</td>\n",
       "      <td>140000</td>\n",
       "    </tr>\n",
       "    <tr>\n",
       "      <th>4</th>\n",
       "      <td>5</td>\n",
       "      <td>60</td>\n",
       "      <td>RL</td>\n",
       "      <td>84.0</td>\n",
       "      <td>14260</td>\n",
       "      <td>Pave</td>\n",
       "      <td>NaN</td>\n",
       "      <td>IR1</td>\n",
       "      <td>Lvl</td>\n",
       "      <td>AllPub</td>\n",
       "      <td>...</td>\n",
       "      <td>0</td>\n",
       "      <td>0</td>\n",
       "      <td>NaN</td>\n",
       "      <td>NaN</td>\n",
       "      <td>0</td>\n",
       "      <td>12</td>\n",
       "      <td>2008</td>\n",
       "      <td>WD</td>\n",
       "      <td>Normal</td>\n",
       "      <td>250000</td>\n",
       "    </tr>\n",
       "  </tbody>\n",
       "</table>\n",
       "<p>5 rows × 81 columns</p>\n",
       "</div>"
      ],
      "text/plain": [
       "   Id  MSSubClass MSZoning  LotFrontage  LotArea Street Alley LotShape  \\\n",
       "0   1          60       RL         65.0     8450   Pave   NaN      Reg   \n",
       "1   2          20       RL         80.0     9600   Pave   NaN      Reg   \n",
       "2   3          60       RL         68.0    11250   Pave   NaN      IR1   \n",
       "3   4          70       RL         60.0     9550   Pave   NaN      IR1   \n",
       "4   5          60       RL         84.0    14260   Pave   NaN      IR1   \n",
       "\n",
       "  LandContour Utilities    ...     PoolArea PoolQC Fence MiscFeature MiscVal  \\\n",
       "0         Lvl    AllPub    ...            0      0   NaN         NaN       0   \n",
       "1         Lvl    AllPub    ...            0      0   NaN         NaN       0   \n",
       "2         Lvl    AllPub    ...            0      0   NaN         NaN       0   \n",
       "3         Lvl    AllPub    ...            0      0   NaN         NaN       0   \n",
       "4         Lvl    AllPub    ...            0      0   NaN         NaN       0   \n",
       "\n",
       "  MoSold YrSold  SaleType  SaleCondition  SalePrice  \n",
       "0      2   2008        WD         Normal     208500  \n",
       "1      5   2007        WD         Normal     181500  \n",
       "2      9   2008        WD         Normal     223500  \n",
       "3      2   2006        WD        Abnorml     140000  \n",
       "4     12   2008        WD         Normal     250000  \n",
       "\n",
       "[5 rows x 81 columns]"
      ]
     },
     "execution_count": 93,
     "metadata": {},
     "output_type": "execute_result"
    }
   ],
   "source": [
    "TrainData.head(5)"
   ]
  },
  {
   "cell_type": "code",
   "execution_count": 94,
   "metadata": {},
   "outputs": [],
   "source": [
    "#I want to try to understand the random forest regressor \n",
    "#-- features and leaf samples, BEFORE i run this.\n",
    "# I have 24 Features Chosen\n",
    "\n",
    "# We adjust with n_estimators and max_features\n",
    "# max_features=n_features is good for regression problems\n",
    "#Train = pd.DataFrame(TrainData[['SalePrice','TotRmsAbvGrd','GrLivArea','OverallQual','BldgType','EnclosedPorch','Fireplaces','GarageCars','HouseStyle','LotFrontage','MasVnrType','MiscFeature','MoSold','MSZoning','Neighborhood','OpenPorchSF','PavedDrive','PoolArea','RoofMatl','ScreenPorch','Street','Utilities','WoodDeckSF','YearRemodAdd','YrSold']])\n",
    "#Test = pd.DataFrame(TestData[['TotRmsAbvGrd','GrLivArea','OverallQual','BldgType','EnclosedPorch','Fireplaces','GarageCars','HouseStyle','LotFrontage','MasVnrType','MiscFeature','MoSold','MSZoning','Neighborhood','OpenPorchSF','PavedDrive','PoolArea','RoofMatl','ScreenPorch','Street','Utilities','WoodDeckSF','YearRemodAdd','YrSold']])\n",
    "TrainTarget = TrainData[['SalePrice']]\n",
    "TrainCol = TrainData[['TotRmsAbvGrd','1stFlrSF','OverallQual','FullBath','LotFrontage','YearRemodAdd','YearBuilt','ExterQual','GrLivArea']]\n",
    "TestCol = TestData[['TotRmsAbvGrd','1stFlrSF','OverallQual','FullBath','LotFrontage','YearRemodAdd','YearBuilt','ExterQual','GrLivArea']]\n",
    "\n",
    "#A hack initially set up for for OneHotEncoder. Complete coverage of categories for dummy variables\n",
    "TrainTest = TrainCol.append(TestCol) \n"
   ]
  },
  {
   "cell_type": "code",
   "execution_count": 95,
   "metadata": {},
   "outputs": [],
   "source": [
    "#TrainTest['MiscFeature']=TrainTest['MiscFeature'].fillna('None')\n",
    "#TrainTest['MasVnrType']=TrainTest['MasVnrType'].fillna('None')\n",
    "TrainTest['LotFrontage']=TrainTest['LotFrontage'].fillna(0)\n",
    "#TrainTest['GarageCars']=TrainTest['GarageCars'].fillna(0)\n",
    "#TrainTest['MSZoning']=TrainTest['MSZoning'].fillna('None')\n"
   ]
  },
  {
   "cell_type": "code",
   "execution_count": 96,
   "metadata": {},
   "outputs": [],
   "source": [
    "TrainTest.to_csv('TrainTestCheck1.csv')\n",
    "TrainTestCol = pd.get_dummies(TrainTest,dummy_na=True)\n",
    "TrainTestCol.to_csv('TrainTestCheck2.csv')\n"
   ]
  },
  {
   "cell_type": "code",
   "execution_count": 97,
   "metadata": {},
   "outputs": [],
   "source": [
    "#TrainTestCol.select_dtypes(include=['int','float']).isnull().sum()[TrainTestCol.select_dtypes(include=['int','float']).isnull().sum()>0]\n",
    "#TrainTestCol2 = pd.DataFrame(TrainTestCol, columns = TrainTestCol.columns)\n",
    "#TrainTestCol2 = TrainTestCol2.drop('BldgType_nan', axis=1)\n",
    "#TrainTestCol2 = TrainTestCol2.drop('RoofMatl_nan', axis=1)\n",
    "#TrainTestCol2 = TrainTestCol2.drop('Street_nan', axis=1)\n",
    "#TrainTestCol2 = TrainTestCol2.drop('HouseStyle_nan', axis=1)    \n",
    "#TrainTestCol2 = TrainTestCol2.drop('MasVnrType_nan', axis=1)    \n",
    "#TrainTestCol2 = TrainTestCol2.drop('MiscFeature_nan', axis=1)                                   \n",
    "#TrainTestCol2 = TrainTestCol2.drop('MSZoning_nan', axis=1)      \n",
    "#TrainTestCol2 = TrainTestCol2.drop('PavedDrive_nan', axis=1)                                         \n",
    "#TrainTestCol2 = TrainTestCol2.drop('MSZoning_None', axis=1)    \n",
    "\n",
    "#TrainTestCol2.to_csv('TrainTestCheck3.csv')\n",
    "\n",
    "Train = TrainTestCol.iloc[:1460]\n",
    "Test = TrainTestCol.iloc[1460:]\n"
   ]
  },
  {
   "cell_type": "code",
   "execution_count": 98,
   "metadata": {},
   "outputs": [],
   "source": [
    "#BoxCox was messing up my Poisson results. Took it off for this reduced predictor -- this compares to Model 6. not 7\n",
    "\n",
    "#Adjusting for skew on predictive variables -- only those visually ID'd as having skew\n",
    "#skew=TrainTestCol.select_dtypes(include=['int','float']).apply(lambda Train: skew(Train.dropna())).sort_values(ascending=False)\n",
    "#skew_df=pd.DataFrame({'Skew':skew})\n",
    "#skewed_df=skew_df[(skew_df['Skew']>0.5)|(skew_df['Skew']<-0.5)]\n",
    "#lam=0.1\n",
    "#for col in (\n",
    "#'GrLivArea',\n",
    "#'1stFlrSF',\n",
    "#'YearBuilt',\n",
    "#'LotFrontage',\n",
    "#'YearRemodAdd'\n",
    "#):\n",
    "#    Train[col]=boxcox1p(Train[col],lam)\n",
    "#    Test[col]=boxcox1p(Test[col],lam)"
   ]
  },
  {
   "cell_type": "code",
   "execution_count": 99,
   "metadata": {},
   "outputs": [],
   "source": [
    "#Train=Train.drop('SalePrice', axis=1)\n",
    "#Test=Test.drop('SalePrice', axis=1)\n",
    "\n",
    "Train.to_csv('Traincheck.csv')\n",
    "Test.to_csv('TestCheck.csv')\n"
   ]
  },
  {
   "cell_type": "code",
   "execution_count": 100,
   "metadata": {},
   "outputs": [],
   "source": [
    "#Here's one person's function for cleaning a dataframe of infs.\n",
    "\n",
    "#def clean_dataset(df):\n",
    "#    assert isinstance(df, pd.DataFrame), \"df needs to be a pd.DataFrame\"\n",
    "#    df.dropna(inplace=True)\n",
    "#    indices_to_keep = ~df.isin([np.nan, np.inf, -np.inf]).any(1)\n",
    "#    return df[indices_to_keep].astype(np.float64)"
   ]
  },
  {
   "cell_type": "code",
   "execution_count": 101,
   "metadata": {},
   "outputs": [],
   "source": [
    "#y=np.log(TrainTarget)\n",
    "#Test = Test.iloc[:,1:]\n",
    "Train['LotFrontage']=Train['LotFrontage'].fillna(0)\n",
    "Test['LotFrontage']=Test['LotFrontage'].fillna(0)\n",
    "Train['GrLivArea']=Train['GrLivArea'].fillna(0)\n",
    "Test['GrLivArea']=Test['GrLivArea'].fillna(0)\n",
    "Train.to_csv('Traincheck.csv')\n",
    "Test.to_csv('TestCheck.csv')\n",
    "\n",
    "Train = Train.reset_index()\n",
    "Test=Test.reset_index()"
   ]
  },
  {
   "cell_type": "code",
   "execution_count": 102,
   "metadata": {},
   "outputs": [],
   "source": [
    "#Very nice STack Overflow discussion on getting around nan and infinity errors, when mixing Pandas and scikit\n",
    "#And I certainly do see that it's when I added the scaler in that things started exploding.\n",
    "\n",
    "#https://stackoverflow.com/questions/31323499/sklearn-error-valueerror-input-contains-nan-infinity-or-a-value-too-large-for"
   ]
  },
  {
   "cell_type": "code",
   "execution_count": 103,
   "metadata": {},
   "outputs": [
    {
     "data": {
      "text/plain": [
       "Series([], dtype: int64)"
      ]
     },
     "execution_count": 103,
     "metadata": {},
     "output_type": "execute_result"
    }
   ],
   "source": [
    "Test.select_dtypes(include=['int','float']).isnull().sum()[Test.select_dtypes(include=['int','float']).isnull().sum()>0]"
   ]
  },
  {
   "cell_type": "code",
   "execution_count": 106,
   "metadata": {},
   "outputs": [
    {
     "data": {
      "text/plain": [
       "Series([], dtype: int64)"
      ]
     },
     "execution_count": 106,
     "metadata": {},
     "output_type": "execute_result"
    }
   ],
   "source": [
    "Train.select_dtypes(include=['int','float']).isnull().sum()[Train.select_dtypes(include=['int','float']).isnull().sum()>0]\n",
    "\n",
    "#houses.select_dtypes(include=['int','float']).isnull().sum()[houses.select_dtypes(include=['int','float']).isnull().sum()>0]"
   ]
  },
  {
   "cell_type": "code",
   "execution_count": 107,
   "metadata": {},
   "outputs": [],
   "source": [
    "#The scaler totally messed things up when I inserted it above. What if I apply it just ahead of the model, as per the pro's example?\n",
    "\n",
    "#temporary test of removing the scaler -- my results are quite odd\n",
    "sc=RobustScaler()\n",
    "Train=sc.fit_transform(Train)\n",
    "Test=sc.fit_transform(Test)\n",
    "\n"
   ]
  },
  {
   "cell_type": "code",
   "execution_count": 108,
   "metadata": {},
   "outputs": [],
   "source": [
    "#Setting Up a Poisson Regression Model -- statsmodels.genmod.families.family.Poisson\n",
    "#Concept - dataset is right skewed. A regression that models a right-skewed distribution is worth investigating.\n",
    "PoiReg = sm.GLM(TrainTarget,Train,data=Train, family=sm.families.Poisson()).fit()\n",
    "#LassoReg = Lasso(alpha =0.001, random_state=1).fit(Train,y)\n",
    "\n",
    "#mod1 = smf.glm(formula=formula, data=dta, family=sm.families.Binomial()).fit()"
   ]
  },
  {
   "cell_type": "code",
   "execution_count": 109,
   "metadata": {},
   "outputs": [],
   "source": [
    "#print PoiReg.summary()\n",
    "#Result = pd.DataFrame(LassoReg.predict(Test))\n",
    "Result = pd.DataFrame(PoiReg.predict(Test))\n",
    "#Result = np.exp(Result)"
   ]
  },
  {
   "cell_type": "code",
   "execution_count": 111,
   "metadata": {},
   "outputs": [],
   "source": [
    "Result.to_csv('resultreg8.csv')\n",
    "#Output = pd.DataFrame({'Id':TestData[['Id']], 'SalePrice':Result})\n",
    "#Output.to_csv('submissiontmb.csv', index=False)"
   ]
  }
 ],
 "metadata": {
  "kernelspec": {
   "display_name": "Python 3",
   "language": "python",
   "name": "python3"
  },
  "language_info": {
   "codemirror_mode": {
    "name": "ipython",
    "version": 3
   },
   "file_extension": ".py",
   "mimetype": "text/x-python",
   "name": "python",
   "nbconvert_exporter": "python",
   "pygments_lexer": "ipython3",
   "version": "3.7.1"
  }
 },
 "nbformat": 4,
 "nbformat_minor": 2
}
